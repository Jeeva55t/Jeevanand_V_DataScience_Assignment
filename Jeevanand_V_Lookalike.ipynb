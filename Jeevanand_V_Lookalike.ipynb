{
 "cells": [
  {
   "cell_type": "code",
   "execution_count": 103,
   "id": "bf27b976-276b-4965-bed5-772d9ffd0621",
   "metadata": {},
   "outputs": [
    {
     "name": "stdout",
     "output_type": "stream",
     "text": [
      "Recommendations saved to Lookalike.csv\n"
     ]
    }
   ],
   "source": [
    "import pandas as pd\n",
    "import numpy as np\n",
    "from sklearn.metrics.pairwise import cosine_similarity\n",
    "from sklearn.preprocessing import StandardScaler, OneHotEncoder\n",
    "\n",
    "# Load datasets\n",
    "customers = pd.read_csv(r\"C:\\DataSciProject\\Customers.csv\")\n",
    "products = pd.read_csv(r\"C:\\DataSciProject\\Products.csv\")\n",
    "transactions = pd.read_csv(r\"C:\\DataSciProject\\Transactions.csv\")\n",
    "\n",
    "# Merge datasets\n",
    "data = transactions.merge(customers, on='CustomerID').merge(products, on='ProductID')\n",
    "customer_features = data.groupby('CustomerID').agg({\n",
    "    'TotalValue': 'sum',\n",
    "    'Quantity': 'sum',\n",
    "    'Category': lambda x: x.mode()[0]\n",
    "}).reset_index()\n",
    "encoder = OneHotEncoder(sparse_output=False, handle_unknown='ignore')\n",
    "category_encoded = encoder.fit_transform(customer_features[['Category']])\n",
    "numeric_features = customer_features[['TotalValue', 'Quantity']].values\n",
    "features = pd.DataFrame(\n",
    "    data=np.hstack([numeric_features, category_encoded]),\n",
    "    columns=['TotalValue', 'Quantity'] + list(encoder.get_feature_names_out(['Category']))\n",
    ")\n",
    "scaler = StandardScaler()\n",
    "scaled_features = scaler.fit_transform(features)\n",
    "\n",
    "similarity_matrix = cosine_similarity(scaled_features)\n",
    "recommendations = {}\n",
    "customer_ids = customer_features['CustomerID']\n",
    "for idx, customer_id in enumerate(customer_ids):\n",
    "    if customer_id in [f'C{str(i).zfill(4)}' for i in range(1, 21)]:\n",
    "        similar_customers = sorted(list(enumerate(similarity_matrix[idx])), key=lambda x: x[1], reverse=True)\n",
    "        recommendations[customer_id] = [\n",
    "            (customer_ids.iloc[rec[0]], round(rec[1], 2)) for rec in similar_customers[1:4]\n",
    "        ]\n",
    "\n",
    "# Generate recommendations for first 20 customers (C0001 to C0020)\n",
    "recommendation_list = []\n",
    "for customer_id, similar_customers in recommendations.items():\n",
    "    for recommended_customer, similarity_score in similar_customers:\n",
    "        recommendation_list.append({\n",
    "            'CustomerID': customer_id,\n",
    "            'RecommendedCustomerID': recommended_customer,\n",
    "            'SimilarityScore': similarity_score\n",
    "        })\n",
    "recommendation_df = pd.DataFrame(recommendation_list)\n",
    "recommendation_df.to_csv(r'C:\\DataSciProject\\Lookalike.csv', index=False)\n",
    "print(\"Recommendations saved to Lookalike.csv\")\n"
   ]
  },
  {
   "cell_type": "code",
   "execution_count": null,
   "id": "62fda6a9-6efe-4a20-8634-db9454c1325c",
   "metadata": {},
   "outputs": [],
   "source": []
  },
  {
   "cell_type": "code",
   "execution_count": null,
   "id": "5f34172e-88cc-48dc-849d-cf73de43ccf5",
   "metadata": {},
   "outputs": [],
   "source": []
  }
 ],
 "metadata": {
  "kernelspec": {
   "display_name": "Python 3 (ipykernel)",
   "language": "python",
   "name": "python3"
  },
  "language_info": {
   "codemirror_mode": {
    "name": "ipython",
    "version": 3
   },
   "file_extension": ".py",
   "mimetype": "text/x-python",
   "name": "python",
   "nbconvert_exporter": "python",
   "pygments_lexer": "ipython3",
   "version": "3.12.3"
  }
 },
 "nbformat": 4,
 "nbformat_minor": 5
}
